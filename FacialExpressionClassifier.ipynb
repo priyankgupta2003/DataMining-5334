{
  "nbformat": 4,
  "nbformat_minor": 0,
  "metadata": {
    "colab": {
      "provenance": [],
      "mount_file_id": "163Ey2QzHClM_DuO7Rp1wKpEIfxrEIL8h",
      "authorship_tag": "ABX9TyPHvVh44qjwVOavTG4lS9mQ",
      "include_colab_link": true
    },
    "kernelspec": {
      "name": "python3",
      "display_name": "Python 3"
    },
    "language_info": {
      "name": "python"
    },
    "gpuClass": "standard"
  },
  "cells": [
    {
      "cell_type": "markdown",
      "metadata": {
        "id": "view-in-github",
        "colab_type": "text"
      },
      "source": [
        "<a href=\"https://colab.research.google.com/github/priyankgupta2003/DataMining-5334/blob/main/FacialExpressionClassifier.ipynb\" target=\"_parent\"><img src=\"https://colab.research.google.com/assets/colab-badge.svg\" alt=\"Open In Colab\"/></a>"
      ]
    },
    {
      "cell_type": "code",
      "execution_count": 1,
      "metadata": {
        "id": "-SnC00YK6aSs"
      },
      "outputs": [],
      "source": [
        "import os\n",
        "import glob\n",
        "import cv2\n",
        "import numpy as np\n",
        "import tensorflow as tf\n",
        "from sklearn.model_selection import train_test_split\n",
        "from tensorflow.keras.models import Sequential\n",
        "from tensorflow.keras.layers import Conv2D, MaxPooling2D, Dense, Flatten, Dropout, BatchNormalization\n",
        "from tensorflow.keras.preprocessing.image import ImageDataGenerator\n",
        "from tensorflow.keras.utils import to_categorical\n",
        "import matplotlib.pyplot as plt"
      ]
    },
    {
      "cell_type": "code",
      "source": [
        "# Load and preprocess the dataset\n",
        "def load_and_preprocess_data(base_directory):\n",
        "    categories = ['angry', 'disgust', 'fear', 'happy', 'sad', 'surprise', 'neutral']\n",
        "    images = []\n",
        "    labels = []\n",
        "\n",
        "    for i, category in enumerate(categories):\n",
        "        category_path = os.path.join(base_directory, category, '*.jpg')\n",
        "        for img_path in glob.glob(category_path):\n",
        "            img = cv2.imread(img_path, cv2.IMREAD_GRAYSCALE)\n",
        "            img = cv2.resize(img, (48, 48))\n",
        "            img = img[..., np.newaxis] / 255.0\n",
        "            images.append(img)\n",
        "            labels.append(i)\n",
        "\n",
        "    images = np.array(images, dtype='float32')\n",
        "    labels = to_categorical(labels)\n",
        "    return images, labels"
      ],
      "metadata": {
        "id": "H4C791kn9UKn"
      },
      "execution_count": 2,
      "outputs": []
    },
    {
      "cell_type": "code",
      "source": [
        "# Define the CNN model\n",
        "def create_model(input_shape, num_classes):\n",
        "    model = Sequential([\n",
        "        Conv2D(32, (3, 3), activation='relu', input_shape=input_shape),\n",
        "        BatchNormalization(),\n",
        "        MaxPooling2D((2, 2)),\n",
        "        Conv2D(64, (3, 3), activation='relu'),\n",
        "        BatchNormalization(),\n",
        "        MaxPooling2D((2, 2)),\n",
        "        Conv2D(128, (3, 3), activation='relu'),\n",
        "        BatchNormalization(),\n",
        "        MaxPooling2D((2, 2)),\n",
        "        Flatten(),\n",
        "        Dense(128, activation='relu'),\n",
        "        Dropout(0.5),\n",
        "        Dense(num_classes, activation='softmax')\n",
        "    ])\n",
        "    return model"
      ],
      "metadata": {
        "id": "HEhaTa279VJO"
      },
      "execution_count": 3,
      "outputs": []
    },
    {
      "cell_type": "code",
      "source": [
        "# Load the datasets\n",
        "train_directory = '/content/drive/MyDrive/data/images/train'\n",
        "val_directory = '/content/drive/MyDrive/data/images/validation'\n",
        "X_train_full, y_train_full = load_and_preprocess_data(train_directory)\n",
        "X_val, y_val = load_and_preprocess_data(val_directory)\n",
        "\n",
        "# Split the training data into training and test sets\n",
        "X_train, X_test, y_train, y_test = train_test_split(X_train_full, y_train_full, test_size=0.2, random_state=42)"
      ],
      "metadata": {
        "id": "3sOJuXphzaWN"
      },
      "execution_count": 5,
      "outputs": []
    },
    {
      "cell_type": "code",
      "source": [
        "# Create the model\n",
        "input_shape = (48, 48, 1)\n",
        "num_classes = 7\n",
        "model = create_model(input_shape, num_classes)\n",
        "model.compile(optimizer='adam', loss='categorical_crossentropy', metrics=['accuracy'])"
      ],
      "metadata": {
        "id": "tPSeDsalzcsD"
      },
      "execution_count": 6,
      "outputs": []
    },
    {
      "cell_type": "code",
      "source": [
        "#Data Augmentation\n",
        "data_gen = ImageDataGenerator(\n",
        "    rotation_range=10,\n",
        "    width_shift_range=0.1,\n",
        "    height_shift_range=0.1,\n",
        "    shear_range=0.1,\n",
        "    zoom_range=0.1,\n",
        "    horizontal_flip=True,\n",
        "    vertical_flip=True,\n",
        "    fill_mode='nearest'\n",
        ")"
      ],
      "metadata": {
        "id": "JMxU3nO0zd9u"
      },
      "execution_count": 7,
      "outputs": []
    },
    {
      "cell_type": "code",
      "source": [
        "# Train the model\n",
        "epochs = 50\n",
        "batch_size = 64\n",
        "history = model.fit(data_gen.flow(X_train, y_train, batch_size=batch_size),\n",
        "                    validation_data=(X_val, y_val),\n",
        "                    epochs=epochs)\n",
        "\n",
        "# Evaluate the model on the test set\n",
        "test_loss, test_accuracy = model.evaluate(X_test, y_test)\n",
        "print(f'Test accuracy: {test_accuracy}')"
      ],
      "metadata": {
        "colab": {
          "base_uri": "https://localhost:8080/"
        },
        "id": "eIolET0UzhPG",
        "outputId": "4140f2a8-ef7d-4776-ee25-e78e86872ac1"
      },
      "execution_count": 8,
      "outputs": [
        {
          "output_type": "stream",
          "name": "stdout",
          "text": [
            "Epoch 1/50\n",
            "225/225 [==============================] - 84s 364ms/step - loss: 1.4914 - accuracy: 0.3224 - val_loss: 3.6764 - val_accuracy: 0.1739\n",
            "Epoch 2/50\n",
            "225/225 [==============================] - 78s 348ms/step - loss: 1.3177 - accuracy: 0.3617 - val_loss: 4.5194 - val_accuracy: 0.2546\n",
            "Epoch 3/50\n",
            "225/225 [==============================] - 80s 354ms/step - loss: 1.2526 - accuracy: 0.4121 - val_loss: 5.1204 - val_accuracy: 0.3104\n",
            "Epoch 4/50\n",
            "225/225 [==============================] - 81s 361ms/step - loss: 1.2040 - accuracy: 0.4354 - val_loss: 5.7002 - val_accuracy: 0.3493\n",
            "Epoch 5/50\n",
            "225/225 [==============================] - 80s 356ms/step - loss: 1.1580 - accuracy: 0.4730 - val_loss: 5.3503 - val_accuracy: 0.4007\n",
            "Epoch 6/50\n",
            "225/225 [==============================] - 79s 350ms/step - loss: 1.0955 - accuracy: 0.5104 - val_loss: 5.0127 - val_accuracy: 0.1664\n",
            "Epoch 7/50\n",
            "225/225 [==============================] - 79s 350ms/step - loss: 1.0512 - accuracy: 0.5326 - val_loss: 4.6635 - val_accuracy: 0.4084\n",
            "Epoch 8/50\n",
            "225/225 [==============================] - 78s 348ms/step - loss: 1.0166 - accuracy: 0.5557 - val_loss: 6.7458 - val_accuracy: 0.4052\n",
            "Epoch 9/50\n",
            "225/225 [==============================] - 82s 366ms/step - loss: 0.9904 - accuracy: 0.5744 - val_loss: 7.1874 - val_accuracy: 0.3781\n",
            "Epoch 10/50\n",
            "225/225 [==============================] - 82s 363ms/step - loss: 0.9727 - accuracy: 0.5851 - val_loss: 7.0446 - val_accuracy: 0.4523\n",
            "Epoch 11/50\n",
            "225/225 [==============================] - 80s 357ms/step - loss: 0.9483 - accuracy: 0.5934 - val_loss: 7.2165 - val_accuracy: 0.4454\n",
            "Epoch 12/50\n",
            "225/225 [==============================] - 76s 340ms/step - loss: 0.9335 - accuracy: 0.6062 - val_loss: 8.3643 - val_accuracy: 0.4646\n",
            "Epoch 13/50\n",
            "225/225 [==============================] - 76s 338ms/step - loss: 0.9180 - accuracy: 0.6156 - val_loss: 9.7940 - val_accuracy: 0.4488\n",
            "Epoch 14/50\n",
            "225/225 [==============================] - 78s 348ms/step - loss: 0.9096 - accuracy: 0.6156 - val_loss: 7.8472 - val_accuracy: 0.4584\n",
            "Epoch 15/50\n",
            "225/225 [==============================] - 76s 338ms/step - loss: 0.9019 - accuracy: 0.6260 - val_loss: 9.0159 - val_accuracy: 0.4673\n",
            "Epoch 16/50\n",
            "225/225 [==============================] - 78s 348ms/step - loss: 0.8908 - accuracy: 0.6294 - val_loss: 9.2502 - val_accuracy: 0.4858\n",
            "Epoch 17/50\n",
            "225/225 [==============================] - 78s 347ms/step - loss: 0.8725 - accuracy: 0.6358 - val_loss: 9.6941 - val_accuracy: 0.4999\n",
            "Epoch 18/50\n",
            "225/225 [==============================] - 80s 356ms/step - loss: 0.8641 - accuracy: 0.6411 - val_loss: 9.0692 - val_accuracy: 0.4863\n",
            "Epoch 19/50\n",
            "225/225 [==============================] - 76s 338ms/step - loss: 0.8541 - accuracy: 0.6425 - val_loss: 10.8514 - val_accuracy: 0.4816\n",
            "Epoch 20/50\n",
            "225/225 [==============================] - 80s 357ms/step - loss: 0.8517 - accuracy: 0.6467 - val_loss: 10.3117 - val_accuracy: 0.4701\n",
            "Epoch 21/50\n",
            "225/225 [==============================] - 76s 340ms/step - loss: 0.8446 - accuracy: 0.6486 - val_loss: 11.1111 - val_accuracy: 0.4724\n",
            "Epoch 22/50\n",
            "225/225 [==============================] - 76s 337ms/step - loss: 0.8457 - accuracy: 0.6489 - val_loss: 11.0687 - val_accuracy: 0.4750\n",
            "Epoch 23/50\n",
            "225/225 [==============================] - 76s 340ms/step - loss: 0.8254 - accuracy: 0.6606 - val_loss: 8.6875 - val_accuracy: 0.4673\n",
            "Epoch 24/50\n",
            "225/225 [==============================] - 78s 345ms/step - loss: 0.8178 - accuracy: 0.6598 - val_loss: 9.2210 - val_accuracy: 0.4655\n",
            "Epoch 25/50\n",
            "225/225 [==============================] - 75s 335ms/step - loss: 0.8203 - accuracy: 0.6635 - val_loss: 10.9583 - val_accuracy: 0.4614\n",
            "Epoch 26/50\n",
            "225/225 [==============================] - 76s 339ms/step - loss: 0.8216 - accuracy: 0.6611 - val_loss: 12.6496 - val_accuracy: 0.4949\n",
            "Epoch 27/50\n",
            "225/225 [==============================] - 74s 329ms/step - loss: 0.8078 - accuracy: 0.6656 - val_loss: 10.2312 - val_accuracy: 0.4534\n",
            "Epoch 28/50\n",
            "225/225 [==============================] - 80s 355ms/step - loss: 0.8025 - accuracy: 0.6695 - val_loss: 12.0478 - val_accuracy: 0.4909\n",
            "Epoch 29/50\n",
            "225/225 [==============================] - 77s 344ms/step - loss: 0.7939 - accuracy: 0.6711 - val_loss: 9.8719 - val_accuracy: 0.4708\n",
            "Epoch 30/50\n",
            "225/225 [==============================] - 78s 344ms/step - loss: 0.7907 - accuracy: 0.6759 - val_loss: 10.7421 - val_accuracy: 0.4832\n",
            "Epoch 31/50\n",
            "225/225 [==============================] - 78s 347ms/step - loss: 0.7832 - accuracy: 0.6762 - val_loss: 13.1307 - val_accuracy: 0.4941\n",
            "Epoch 32/50\n",
            "225/225 [==============================] - 79s 350ms/step - loss: 0.7923 - accuracy: 0.6785 - val_loss: 12.6816 - val_accuracy: 0.4904\n",
            "Epoch 33/50\n",
            "225/225 [==============================] - 78s 348ms/step - loss: 0.7839 - accuracy: 0.6787 - val_loss: 12.7624 - val_accuracy: 0.4884\n",
            "Epoch 34/50\n",
            "225/225 [==============================] - 80s 357ms/step - loss: 0.7855 - accuracy: 0.6796 - val_loss: 14.2609 - val_accuracy: 0.4983\n",
            "Epoch 35/50\n",
            "225/225 [==============================] - 77s 342ms/step - loss: 0.7768 - accuracy: 0.6805 - val_loss: 12.4526 - val_accuracy: 0.5016\n",
            "Epoch 36/50\n",
            "225/225 [==============================] - 77s 340ms/step - loss: 0.7711 - accuracy: 0.6851 - val_loss: 14.2577 - val_accuracy: 0.4984\n",
            "Epoch 37/50\n",
            "225/225 [==============================] - 80s 356ms/step - loss: 0.7625 - accuracy: 0.6860 - val_loss: 15.3715 - val_accuracy: 0.4973\n",
            "Epoch 38/50\n",
            "225/225 [==============================] - 77s 343ms/step - loss: 0.7659 - accuracy: 0.6845 - val_loss: 14.3406 - val_accuracy: 0.4816\n",
            "Epoch 39/50\n",
            "225/225 [==============================] - 78s 347ms/step - loss: 0.7559 - accuracy: 0.6912 - val_loss: 13.1835 - val_accuracy: 0.5122\n",
            "Epoch 40/50\n",
            "225/225 [==============================] - 81s 360ms/step - loss: 0.7542 - accuracy: 0.6926 - val_loss: 12.7539 - val_accuracy: 0.4933\n",
            "Epoch 41/50\n",
            "225/225 [==============================] - 76s 340ms/step - loss: 0.7505 - accuracy: 0.6900 - val_loss: 13.0140 - val_accuracy: 0.5054\n",
            "Epoch 42/50\n",
            "225/225 [==============================] - 79s 349ms/step - loss: 0.7518 - accuracy: 0.6957 - val_loss: 13.5228 - val_accuracy: 0.5079\n",
            "Epoch 43/50\n",
            "225/225 [==============================] - 81s 360ms/step - loss: 0.7564 - accuracy: 0.6976 - val_loss: 13.8250 - val_accuracy: 0.5072\n",
            "Epoch 44/50\n",
            "225/225 [==============================] - 76s 339ms/step - loss: 0.7483 - accuracy: 0.6949 - val_loss: 14.7414 - val_accuracy: 0.4566\n",
            "Epoch 45/50\n",
            "225/225 [==============================] - 81s 360ms/step - loss: 0.7553 - accuracy: 0.6913 - val_loss: 14.0252 - val_accuracy: 0.5122\n",
            "Epoch 46/50\n",
            "225/225 [==============================] - 77s 344ms/step - loss: 0.7355 - accuracy: 0.6988 - val_loss: 13.4618 - val_accuracy: 0.4938\n",
            "Epoch 47/50\n",
            "225/225 [==============================] - 78s 345ms/step - loss: 0.7345 - accuracy: 0.7039 - val_loss: 13.4002 - val_accuracy: 0.4972\n",
            "Epoch 48/50\n",
            "225/225 [==============================] - 80s 355ms/step - loss: 0.7309 - accuracy: 0.7029 - val_loss: 15.3356 - val_accuracy: 0.5050\n",
            "Epoch 49/50\n",
            "225/225 [==============================] - 78s 348ms/step - loss: 0.7352 - accuracy: 0.6982 - val_loss: 13.7493 - val_accuracy: 0.4994\n",
            "Epoch 50/50\n",
            "225/225 [==============================] - 80s 358ms/step - loss: 0.7315 - accuracy: 0.7033 - val_loss: 14.6600 - val_accuracy: 0.4990\n",
            "113/113 [==============================] - 4s 34ms/step - loss: 0.7833 - accuracy: 0.6864\n",
            "Test accuracy: 0.686421811580658\n"
          ]
        }
      ]
    },
    {
      "cell_type": "code",
      "source": [
        "#plot the accuracy and loss curves\n",
        "plt.plot(history.history['accuracy'])\n",
        "plt.plot(history.history['val_accuracy'])\n",
        "plt.title('Model accuracy')\n",
        "plt.ylabel('Accuracy')\n",
        "plt.xlabel('Epoch')\n",
        "plt.legend(['Train', 'Val'], loc='upper left')\n",
        "plt.show()\n",
        "\n",
        "plt.plot(history.history['loss'])\n",
        "plt.plot(history.history['val_loss'])\n",
        "plt.title('Model loss')\n",
        "plt.ylabel('Loss')\n",
        "plt.xlabel('Epoch')\n",
        "plt.legend(['Train', 'Val'], loc='upper left')\n",
        "plt.show()"
      ],
      "metadata": {
        "colab": {
          "base_uri": "https://localhost:8080/",
          "height": 573
        },
        "id": "NHVfoShdzm8U",
        "outputId": "b174b805-e0b0-49e5-eae7-289b0df57d63"
      },
      "execution_count": 9,
      "outputs": [
        {
          "output_type": "display_data",
          "data": {
            "text/plain": [
              "<Figure size 432x288 with 1 Axes>"
            ],
            "image/png": "[encoded data removed]"
          },
          "metadata": {
            "needs_background": "light"
          }
        },
        {
          "output_type": "display_data",
          "data": {
            "text/plain": [
              "<Figure size 432x288 with 1 Axes>"
            ],
            "image/png": "[encoded data removed]"
          },
          "metadata": {
            "needs_background": "light"
          }
        }
      ]
    },
    {
      "cell_type": "code",
      "source": [
        "import tensorflow as tf\n",
        "from tensorflow.keras.applications.mobilenet_v2 import MobileNetV2, preprocess_input\n",
        "from tensorflow.keras.layers import Input, GlobalAveragePooling2D, Dense\n",
        "from tensorflow.keras.models import Model\n"
      ],
      "metadata": {
        "id": "-2kbJW6kzs4o"
      },
      "execution_count": 10,
      "outputs": []
    },
    {
      "cell_type": "code",
      "source": [
        "def create_pretrained_model(input_shape, num_classes):\n",
        "    # Convert grayscale input to RGB\n",
        "    grayscale_input = Input(input_shape)\n",
        "    rgb_input = tf.keras.layers.Concatenate(axis=-1)([grayscale_input, grayscale_input, grayscale_input])\n",
        "    \n",
        "    # Load the pre-trained MobileNetV2 model without the top layers\n",
        "    base_model = MobileNetV2(include_top=False, weights='imagenet', input_tensor=rgb_input)\n",
        "\n",
        "    # Add the top layers for your classification task\n",
        "    x = base_model.output\n",
        "    x = GlobalAveragePooling2D()(x)\n",
        "    x = Dense(128, activation='relu')(x)\n",
        "    output = Dense(num_classes, activation='softmax')(x)\n",
        "\n",
        "    model = Model(inputs=grayscale_input, outputs=output)\n",
        "\n",
        "    return model\n",
        "\n"
      ],
      "metadata": {
        "id": "ist6aPxvzug0"
      },
      "execution_count": 11,
      "outputs": []
    },
    {
      "cell_type": "code",
      "source": [
        "# Create the pre-trained model\n",
        "input_shape = (48, 48, 1)\n",
        "num_classes = 7\n",
        "pretrained_model = create_pretrained_model(input_shape, num_classes)\n",
        "pretrained_model.compile(optimizer='adam', loss='categorical_crossentropy', metrics=['accuracy'])\n",
        "\n",
        "# Train the pre-trained model\n",
        "history_pretrained = pretrained_model.fit(X_train, y_train, validation_data=(X_val, y_val), epochs=epochs, batch_size=batch_size)\n",
        "\n",
        "# Evaluate the pre-trained model on the test set\n",
        "test_loss_pretrained, test_accuracy_pretrained = pretrained_model.evaluate(X_test, y_test)\n",
        "print(f'Test accuracy (pre-trained model): {test_accuracy_pretrained}')\n"
      ],
      "metadata": {
        "colab": {
          "base_uri": "https://localhost:8080/"
        },
        "id": "2TFm1zEnzwBS",
        "outputId": "a809c6a7-6c8e-43d9-c374-94ec2d48542c"
      },
      "execution_count": null,
      "outputs": [
        {
          "output_type": "stream",
          "name": "stderr",
          "text": [
            "WARNING:tensorflow:`input_shape` is undefined or non-square, or `rows` is not in [96, 128, 160, 192, 224]. Weights for input shape (224, 224) will be loaded as the default.\n"
          ]
        },
        {
          "output_type": "stream",
          "name": "stdout",
          "text": [
            "Downloading data from https://storage.googleapis.com/tensorflow/keras-applications/mobilenet_v2/mobilenet_v2_weights_tf_dim_ordering_tf_kernels_1.0_224_no_top.h5\n",
            "9406464/9406464 [==============================] - 0s 0us/step\n",
            "Epoch 1/50\n",
            "225/225 [==============================] - 216s 889ms/step - loss: 1.1172 - accuracy: 0.5367 - val_loss: 41.3613 - val_accuracy: 0.4233\n",
            "Epoch 2/50\n",
            "225/225 [==============================] - 204s 908ms/step - loss: 0.8017 - accuracy: 0.6778 - val_loss: 28.1168 - val_accuracy: 0.3745\n",
            "Epoch 3/50\n",
            "225/225 [==============================] - 205s 913ms/step - loss: 0.6782 - accuracy: 0.7261 - val_loss: 18.8584 - val_accuracy: 0.4471\n",
            "Epoch 4/50\n",
            "225/225 [==============================] - 208s 927ms/step - loss: 0.5961 - accuracy: 0.7628 - val_loss: 16.8836 - val_accuracy: 0.4769\n",
            "Epoch 5/50\n",
            "225/225 [==============================] - 205s 912ms/step - loss: 0.5414 - accuracy: 0.7850 - val_loss: 13.4615 - val_accuracy: 0.4761\n",
            "Epoch 6/50\n",
            "225/225 [==============================] - 195s 868ms/step - loss: 0.4966 - accuracy: 0.8030 - val_loss: 15.1890 - val_accuracy: 0.4333\n",
            "Epoch 7/50\n",
            "225/225 [==============================] - 206s 915ms/step - loss: 0.4515 - accuracy: 0.8209 - val_loss: 17.6384 - val_accuracy: 0.3590\n",
            "Epoch 8/50\n",
            "225/225 [==============================] - 206s 914ms/step - loss: 0.3999 - accuracy: 0.8432 - val_loss: 15.7738 - val_accuracy: 0.3896\n",
            "Epoch 9/50\n",
            "225/225 [==============================] - 203s 905ms/step - loss: 0.3672 - accuracy: 0.8587 - val_loss: 14.3428 - val_accuracy: 0.3793\n",
            "Epoch 10/50\n",
            "225/225 [==============================] - 204s 906ms/step - loss: 0.3227 - accuracy: 0.8792 - val_loss: 15.5628 - val_accuracy: 0.4062\n",
            "Epoch 11/50\n",
            "225/225 [==============================] - 206s 916ms/step - loss: 0.2994 - accuracy: 0.8874 - val_loss: 17.8576 - val_accuracy: 0.3319\n",
            "Epoch 12/50\n",
            "225/225 [==============================] - 205s 911ms/step - loss: 0.2631 - accuracy: 0.9025 - val_loss: 19.0247 - val_accuracy: 0.3933\n",
            "Epoch 13/50\n",
            "225/225 [==============================] - 204s 907ms/step - loss: 0.2433 - accuracy: 0.9092 - val_loss: 17.8584 - val_accuracy: 0.3356\n",
            "Epoch 14/50\n",
            "225/225 [==============================] - 203s 901ms/step - loss: 0.2291 - accuracy: 0.9128 - val_loss: 15.4737 - val_accuracy: 0.4240\n",
            "Epoch 15/50\n",
            "225/225 [==============================] - 203s 901ms/step - loss: 0.2041 - accuracy: 0.9258 - val_loss: 18.0439 - val_accuracy: 0.3678\n",
            "Epoch 16/50\n",
            "225/225 [==============================] - 196s 871ms/step - loss: 0.1766 - accuracy: 0.9371 - val_loss: 17.4148 - val_accuracy: 0.4336\n",
            "Epoch 17/50\n",
            "225/225 [==============================] - 208s 925ms/step - loss: 0.1643 - accuracy: 0.9395 - val_loss: 17.7846 - val_accuracy: 0.3968\n",
            "Epoch 18/50\n",
            "225/225 [==============================] - 197s 875ms/step - loss: 0.1572 - accuracy: 0.9438 - val_loss: 17.1548 - val_accuracy: 0.4464\n",
            "Epoch 19/50\n",
            "225/225 [==============================] - 198s 880ms/step - loss: 0.1470 - accuracy: 0.9503 - val_loss: 18.1604 - val_accuracy: 0.4690\n",
            "Epoch 20/50\n",
            "225/225 [==============================] - 203s 902ms/step - loss: 0.1383 - accuracy: 0.9491 - val_loss: 18.9636 - val_accuracy: 0.3743\n",
            "Epoch 21/50\n",
            "225/225 [==============================] - 201s 893ms/step - loss: 0.1226 - accuracy: 0.9548 - val_loss: 22.1105 - val_accuracy: 0.4200\n",
            "Epoch 22/50\n",
            "225/225 [==============================] - 201s 893ms/step - loss: 0.1243 - accuracy: 0.9555 - val_loss: 16.2354 - val_accuracy: 0.4040\n",
            "Epoch 23/50\n",
            "225/225 [==============================] - 201s 894ms/step - loss: 0.1183 - accuracy: 0.9580 - val_loss: 15.3951 - val_accuracy: 0.4447\n",
            "Epoch 24/50\n",
            "225/225 [==============================] - 202s 898ms/step - loss: 0.1196 - accuracy: 0.9567 - val_loss: 15.0494 - val_accuracy: 0.4164\n",
            "Epoch 25/50\n",
            "225/225 [==============================] - 202s 900ms/step - loss: 0.1014 - accuracy: 0.9636 - val_loss: 16.8052 - val_accuracy: 0.4541\n",
            "Epoch 26/50\n",
            "225/225 [==============================] - 202s 898ms/step - loss: 0.1116 - accuracy: 0.9622 - val_loss: 17.7843 - val_accuracy: 0.4549\n",
            "Epoch 27/50\n",
            "225/225 [==============================] - 208s 924ms/step - loss: 0.1044 - accuracy: 0.9633 - val_loss: 20.3689 - val_accuracy: 0.4604\n",
            "Epoch 28/50\n",
            "225/225 [==============================] - 199s 884ms/step - loss: 0.0967 - accuracy: 0.9669 - val_loss: 15.5593 - val_accuracy: 0.4489\n",
            "Epoch 29/50\n",
            "120/225 [===============>..............] - ETA: 1:29 - loss: 0.0776 - accuracy: 0.9742"
          ]
        }
      ]
    },
    {
      "cell_type": "code",
      "source": [
        "import numpy as np\n",
        "from imblearn.over_sampling import RandomOverSampler\n",
        "\n",
        "epochs = 20\n",
        "batch_size = 64\n",
        "\n",
        "# Flatten the images for the oversampling process\n",
        "X_train_flattened = X_train.reshape(X_train.shape[0], -1)\n",
        "\n",
        "# Apply RandomOverSampler\n",
        "ros = RandomOverSampler()\n",
        "X_train_resampled, y_train_resampled = ros.fit_resample(X_train_flattened, y_train.argmax(axis=1))\n",
        "\n",
        "# Unflatten the images back to their original shape\n",
        "X_train_resampled = X_train_resampled.reshape(X_train_resampled.shape[0], 48, 48, 1)\n",
        "\n",
        "# Convert y_train_resampled back to categorical\n",
        "y_train_resampled = to_categorical(y_train_resampled)\n",
        "\n",
        "# Train the model with the resampled data\n",
        "history = model.fit(data_gen.flow(X_train_resampled, y_train_resampled, batch_size=batch_size),\n",
        "                    validation_data=(X_val, y_val),\n",
        "                    epochs=epochs)\n",
        "\n",
        "# Evaluate the model on the test set\n",
        "test_loss, test_accuracy = model.evaluate(X_test, y_test)\n",
        "print(f'Test accuracy: {test_accuracy}')\n"
      ],
      "metadata": {
        "id": "SgW5NKmpzxHk"
      },
      "execution_count": null,
      "outputs": []
    },
    {
      "cell_type": "code",
      "source": [
        "import numpy as np\n",
        "import os\n",
        "import glob\n",
        "import cv2\n",
        "from sklearn.model_selection import train_test_split, StratifiedKFold, RandomizedSearchCV\n",
        "from sklearn.metrics import accuracy_score\n",
        "from tensorflow.keras.models import Sequential\n",
        "from tensorflow.keras.layers import Conv2D, MaxPooling2D, Dense, Flatten, Dropout, BatchNormalization\n",
        "from tensorflow.keras.preprocessing.image import ImageDataGenerator\n",
        "#from scikeras.wrappers import KerasClassifier\n",
        "from tensorflow.keras.wrappers.scikit_learn import KerasClassifier\n",
        "from tensorflow.keras.optimizers import Adam\n",
        "from tensorflow.keras.utils import to_categorical\n",
        "\n",
        "# Define the CNN model\n",
        "def create_model(input_shape, num_classes, learning_rate=0.001):\n",
        "    model = Sequential([\n",
        "        Conv2D(32, (3, 3), activation='relu', input_shape=input_shape),\n",
        "        BatchNormalization(),\n",
        "        MaxPooling2D((2, 2)),\n",
        "        Conv2D(64, (3, 3), activation='relu'),\n",
        "        BatchNormalization(),\n",
        "        MaxPooling2D((2, 2)),\n",
        "        Conv2D(128, (3, 3), activation='relu'),\n",
        "        BatchNormalization(),\n",
        "        MaxPooling2D((2, 2)),\n",
        "        Flatten(),\n",
        "        Dense(128, activation='relu'),\n",
        "        Dropout(0.5),\n",
        "        Dense(num_classes, activation='softmax')\n",
        "    ])\n",
        "    model.compile(optimizer=Adam(learning_rate=learning_rate), loss='categorical_crossentropy', metrics=['accuracy'])\n",
        "    return model\n",
        "\n",
        "# Perform k-fold cross-validation\n",
        "k = 2\n",
        "skf = StratifiedKFold(n_splits=k, shuffle=True, random_state=42)\n",
        "\n",
        "# Define the search space for hyperparameters\n",
        "param_grid = {\n",
        "    'learning_rate': [0.1, 0.01, 0.001, 0.0001],\n",
        "    'batch_size': [32, 64, 128],\n",
        "    'epochs': [10, 20, 30]\n",
        "}\n",
        "\n",
        "# Initialize the KerasClassifier with the create_model function\n",
        "model = KerasClassifier(build_fn=create_model, input_shape=(48, 48, 1), num_classes=7)\n",
        "#model = KerasClassifier(model=create_model, input_shape=(48, 48, 1), num_classes=7)\n",
        "\n",
        "# Initialize the RandomizedSearchCV object\n",
        "random_search = RandomizedSearchCV(estimator=model, param_distributions=param_grid, n_iter=2, cv=skf, verbose=2, n_jobs=1)\n",
        "\n",
        "# Fit the random search to the training data\n",
        "random_search_result = random_search.fit(X_train_full, y_train_full.argmax(axis=1))\n",
        "\n",
        "# Print the best hyperparameters\n",
        "print(f\"Best hyperparameters: {random_search_result.best_params_}\")\n",
        "\n",
        "# Fine-tuning: Set the learning rate to a lower value and train for a few more epochs\n",
        "best_learning_rate = random_search_result.best_params_['learning_rate'] / 10\n",
        "best_epochs = random_search_result.best_params_['epochs'] + 50\n",
        "best_batch_size = random_search_result.best_params_['batch_size']\n",
        "\n",
        "# Train the model with the best hyperparameters and fine-tuning\n",
        "best_model = create_model(input_shape=(48, 48, 1), num_classes=7, learning_rate=best_learning_rate)\n",
        "history = best_model.fit(X_train, y_train, validation_data=(X_val, y_val), epochs=best_epochs, batch_size=best_batch_size)\n",
        "\n",
        "# Evaluate the model on the test set\n",
        "test_loss, test_accuracy = best_model.evaluate(X_test, y_test)\n",
        "print(f'Test accuracy: {test_accuracy}')\n"
      ],
      "metadata": {
        "id": "EuIFbeBLz0SY"
      },
      "execution_count": null,
      "outputs": []
    },
    {
      "cell_type": "code",
      "source": [
        "# Plot function for training history\n",
        "def plot_history(history, title):\n",
        "    fig, (ax1, ax2) = plt.subplots(1, 2, figsize=(12, 4))\n",
        "\n",
        "    ax1.plot(history.history['accuracy'])\n",
        "    ax1.plot(history.history['val_accuracy'])\n",
        "    ax1.set_title(f'{title} - Model accuracy')\n",
        "    ax1.set_ylabel('Accuracy')\n",
        "    ax1.set_xlabel('Epoch')\n",
        "    ax1.legend(['Train', 'Validation'], loc='upper left')\n",
        "\n",
        "    ax2.plot(history.history['loss'])\n",
        "    ax2.plot(history.history['val_loss'])\n",
        "    ax2.set_title(f'{title} - Model loss')\n",
        "    ax2.set_ylabel('Loss')\n",
        "    ax2.set_xlabel('Epoch')\n",
        "    ax2.legend(['Train', 'Validation'], loc='upper left')\n",
        "\n",
        "    plt.show()"
      ],
      "metadata": {
        "id": "v7Dr3Rzdz19N"
      },
      "execution_count": null,
      "outputs": []
    },
    {
      "cell_type": "code",
      "source": [
        "# Train the model with the resampled data\n",
        "history_resampled = model.fit(data_gen.flow(X_train_resampled, y_train_resampled, batch_size=batch_size),\n",
        "                              validation_data=(X_val, y_val),\n",
        "                              epochs=epochs)\n",
        "\n",
        "# Evaluate the model on the test set\n",
        "test_loss, test_accuracy = model.evaluate(X_test, y_test)\n",
        "print(f'Test accuracy: {test_accuracy}')\n",
        "\n",
        "# Plot the training history for the original model and the resampled model\n",
        "plot_history(history, \"Original Model\")\n",
        "plot_history(history_resampled, \"Resampled Model\")"
      ],
      "metadata": {
        "id": "prRWbdeez3yo"
      },
      "execution_count": null,
      "outputs": []
    },
    {
      "cell_type": "code",
      "source": [
        "# Train the model with the best hyperparameters and fine-tuning\n",
        "best_model = create_model(input_shape=(48, 48, 1), num_classes=7, learning_rate=best_learning_rate)\n",
        "history_best_model = best_model.fit(X_train, y_train, validation_data=(X_val, y_val), epochs=best_epochs, batch_size=best_batch_size)\n",
        "\n",
        "# Evaluate the model on the test set\n",
        "test_loss, test_accuracy = best_model.evaluate(X_test, y_test)\n",
        "print(f'Test accuracy: {test_accuracy}')\n",
        "\n",
        "# Plot the training history for the best model\n",
        "plot_history(history_best_model, \"Best Model\")"
      ],
      "metadata": {
        "id": "0MFMSF1fz5Tj"
      },
      "execution_count": null,
      "outputs": []
    },
    {
      "cell_type": "code",
      "source": [
        "import pandas as pd\n",
        "\n",
        "# Plot the scatter plot for hyperparameters\n",
        "def plot_hyperparameters(search_results, x_param, y_param):\n",
        "    df = pd.DataFrame(search_results.cv_results_)\n",
        "    plt.scatter(df[f\"param_{x_param}\"], df[f\"param_{y_param}\"], c=df['mean_test_score'], cmap='viridis', s=100)\n",
        "    plt.colorbar(label='Mean Test Score')\n",
        "    plt.xlabel(x_param)\n",
        "    plt.ylabel(y_param)\n",
        "    plt.title(f'{x_param} vs {y_param}')\n",
        "    plt.show()\n",
        "\n",
        "# Plot the training history for the original model, resampled model, and pretrained model\n",
        "plot_history(history, \"Original Model\")\n",
        "plot_history(history_resampled, \"Resampled Model\")\n",
        "plot_history(history_pretrained, \"Pre-trained Model\")\n",
        "\n",
        "# Plot the hyperparameters for the randomized search\n",
        "plot_hyperparameters(random_search_result, 'learning_rate', 'batch_size')"
      ],
      "metadata": {
        "id": "4P5TG3_vz6-l"
      },
      "execution_count": null,
      "outputs": []
    }
  ]
}